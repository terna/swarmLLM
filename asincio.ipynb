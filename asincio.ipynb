{
 "cells": [
  {
   "cell_type": "markdown",
   "id": "9cacca2c-6af8-42eb-83b1-1f3c6888b197",
   "metadata": {},
   "source": [
    "studio asincio con https://nocomplexity.com/documents/jupyterlab/tip-asyncio.html\n",
    "\n",
    "e soprattutto con domande a ChatGPT che producono  \n",
    "task = loop.create_task(main())  \n",
    "await task  \n",
    "\n",
    "e le celle finali"
   ]
  },
  {
   "cell_type": "code",
   "execution_count": 1,
   "id": "3c52f92e-22a1-48d9-9e58-784897f0888a",
   "metadata": {},
   "outputs": [],
   "source": [
    "import asyncio\n",
    "loop = asyncio.get_event_loop()"
   ]
  },
  {
   "cell_type": "code",
   "execution_count": 2,
   "id": "00c677fe-b87c-4b34-8cb2-a95601e48db3",
   "metadata": {},
   "outputs": [],
   "source": [
    "#hello_world.py\n",
    "\n",
    "#import asyncio\n",
    "\n",
    "from agents import Agent, Runner\n",
    "\n",
    "\n",
    "async def main():\n",
    "    agent = Agent(\n",
    "        name=\"Assistant\",\n",
    "        instructions=\"You only respond in haikus.\",\n",
    "    )\n",
    "\n",
    "    result = await Runner.run(agent, \"Tell me about recursion in programming.\")\n",
    "    print(result.final_output)\n",
    "    # Function calls itself,\n",
    "    # Looping in smaller pieces,\n",
    "    # Endless by design.\n",
    "\n",
    "\n",
    "#if __name__ == \"__main__\":\n",
    "#    asyncio.run(main())"
   ]
  },
  {
   "cell_type": "code",
   "execution_count": 4,
   "id": "269d2e7c-07d6-4ca2-a949-770680793272",
   "metadata": {},
   "outputs": [
    {
     "name": "stdout",
     "output_type": "stream",
     "text": [
      "Function calls itself,  \n",
      "Breaking problem into parts,  \n",
      "Infinite mirrors.\n"
     ]
    },
    {
     "data": {
      "text/plain": [
       "True"
      ]
     },
     "execution_count": 4,
     "metadata": {},
     "output_type": "execute_result"
    }
   ],
   "source": [
    "task = loop.create_task(main())\n",
    "await task\n",
    "task.done() "
   ]
  },
  {
   "cell_type": "raw",
   "id": "ae260710-3a4d-4fd0-9d5f-ddee555f8bd4",
   "metadata": {},
   "source": [
    "task.done()        # True se il task è completato\n",
    "task.cancelled()   # True se il task è stato cancellato\n",
    "task.exception()   # Restituisce l’eccezione se ce n’è una\n",
    "task.result() "
   ]
  },
  {
   "cell_type": "markdown",
   "id": "e68be7a0-e66c-4e8a-acb1-7626a7c7e992",
   "metadata": {},
   "source": [
    "### esempi di controllo del task"
   ]
  },
  {
   "cell_type": "code",
   "execution_count": null,
   "id": "f36e2a66-d26a-4c7e-899d-3c469b1df087",
   "metadata": {},
   "outputs": [],
   "source": [
    "task = loop.create_task(main())\n",
    "\n",
    "while not task.done():\n",
    "    print(\"Task is running...\")\n",
    "    await asyncio.sleep(0.5)\n",
    "\n",
    "if task.cancelled():\n",
    "    print(\"Task was cancelled.\")\n",
    "elif task.exception():\n",
    "    print(\"Task raised an exception:\", task.exception())\n",
    "else:\n",
    "    print(\"Task completed successfully. Result:\")\n",
    "    print(task.result())\n"
   ]
  },
  {
   "cell_type": "code",
   "execution_count": null,
   "id": "aa72b05d-60af-4945-81e7-60e0a52f2429",
   "metadata": {},
   "outputs": [],
   "source": [
    "def on_task_done(t):\n",
    "    if t.cancelled():\n",
    "        print(\"Task was cancelled.\")\n",
    "    elif t.exception():\n",
    "        print(\"Task raised an exception:\", t.exception())\n",
    "    else:\n",
    "        print(\"Task completed successfully.\")\n",
    "        print(\"Result:\", t.result())\n",
    "\n",
    "task = loop.create_task(main())\n",
    "task.add_done_callback(on_task_done)"
   ]
  },
  {
   "cell_type": "markdown",
   "id": "d069d0a9-cb77-4f76-8ccb-9eba4c834462",
   "metadata": {},
   "source": [
    "Eseguire più Agent in parallelo è perfetto per asyncio.gather().\n",
    "\n",
    "Immagina di voler lanciare più agenti contemporaneamente, tipo una mini squadra di bot che lavorano in parallelo. Ti mostro tutto passo passo."
   ]
  },
  {
   "cell_type": "code",
   "execution_count": null,
   "id": "31bfee8c-ed8b-45a6-b6ea-265bbcf9bb33",
   "metadata": {},
   "outputs": [],
   "source": [
    "import asyncio\n",
    "from agents import Agent, Runner\n",
    "\n",
    "async def run_agent(name, prompt):\n",
    "    agent = Agent(\n",
    "        name=name,\n",
    "        instructions=\"You only respond in haikus.\",\n",
    "    )\n",
    "    result = await Runner.run(agent, prompt)\n",
    "    return name, result.final_output\n",
    "\n",
    "async def main():\n",
    "    prompts = [\n",
    "        (\"Agent A\", \"Explain polymorphism.\"),\n",
    "        (\"Agent B\", \"What is a closure in Python?\"),\n",
    "        (\"Agent C\", \"Describe big O notation.\"),\n",
    "    ]\n",
    "\n",
    "    tasks = [run_agent(name, prompt) for name, prompt in prompts]\n",
    "    results = await asyncio.gather(*tasks)\n",
    "\n",
    "    for name, output in results:\n",
    "        print(f\"{name} says:\\n{output}\\n\")\n",
    "\n",
    "# In Jupyter: usa await direttamente\n",
    "await main()\n"
   ]
  },
  {
   "cell_type": "code",
   "execution_count": null,
   "id": "e994b5aa-7e5e-4475-9bb5-7b38cd3d7516",
   "metadata": {},
   "outputs": [],
   "source": []
  }
 ],
 "metadata": {
  "kernelspec": {
   "display_name": "Python 3 (ipykernel)",
   "language": "python",
   "name": "python3"
  },
  "language_info": {
   "codemirror_mode": {
    "name": "ipython",
    "version": 3
   },
   "file_extension": ".py",
   "mimetype": "text/x-python",
   "name": "python",
   "nbconvert_exporter": "python",
   "pygments_lexer": "ipython3",
   "version": "3.11.7"
  }
 },
 "nbformat": 4,
 "nbformat_minor": 5
}
