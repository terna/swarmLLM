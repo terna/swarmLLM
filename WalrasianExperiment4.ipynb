{
 "cells": [
  {
   "cell_type": "markdown",
   "id": "9121bf53-eeaf-485a-aa59-ddb7090c3258",
   "metadata": {},
   "source": [
    "ABMs and LLMs, surveys:  \n",
    "#### [Large language models empowered agent-based modeling and simulation: a survey and perspectives](https://www.nature.com/articles/s41599-024-03611-3) in BibDesk  \n",
    "#### [Carbon and Silicon, Coexist or Compete? A Survey on Human-AI Interactions in Agent-based Modeling and Simulation](https://arxiv.org/pdf/2502.18145)  in BibDesk\n",
    "\n",
    "Others:  \n",
    "[Algorithmic Collusion by Large Language Models](https://arxiv.org/abs/2404.00806) in BibDesk  \n",
    "[LLM-Driven Social Influence for Cooperative Behavior in Multi-Agent Systems](https://ieeexplore.ieee.org/stamp/stamp.jsp?arnumber=10912445) in BibDesk\n",
    "  \n",
    "Technicalities on [Multi-Agent System Powered by Large Language Models: An Innovation Guide](https://medium.com/data-science-collective/multi-agent-system-powered-by-large-language-models-an-innovation-guide-e5cc9dd6f366)"
   ]
  },
  {
   "cell_type": "markdown",
   "id": "861c14be-3260-463c-a8b4-fb18339e907a",
   "metadata": {},
   "source": [
    "Walrasian auctioneer or crier?  \n",
    "Not an auction market, simply a market where someone–-the crier–-proposes prices, following a trial and error process, to search for an equlibrium. See https://en.wikipedia.org/wiki/Walrasian_auction"
   ]
  },
  {
   "cell_type": "markdown",
   "id": "341400cc-41bf-4d1c-8fed-394bef58ff86",
   "metadata": {},
   "source": [
    "useful paper https://air.unimi.it/bitstream/2434/43747/1/walras_lombardo_07fin.pdf (a copy in this folder)\n",
    "\n",
    "A translation error, look at *Walrasian auction* https://en.wikipedia.org/wiki/Walrasian_auction"
   ]
  },
  {
   "cell_type": "markdown",
   "id": "469f8857-2709-4d5d-9201-02564434c580",
   "metadata": {},
   "source": [
    "Using **[Swarm (experimental, educational)](https://github.com/openai/swarm/blob/main/README.md)** con **[Orchestrating Agents: Routines and Handoffs](https://cookbook.openai.com/examples/orchestrating_agents)**"
   ]
  },
  {
   "cell_type": "markdown",
   "id": "fc9e564b-208f-4ad1-bf43-2d0742a3adf2",
   "metadata": {},
   "source": [
    "other tools: [LangGraph vs CrewAI vs OpenAI Swarm: Which AI Agent Framework to Choose?](https://oyelabs.com/langgraph-vs-crewai-vs-openai-swarm-ai-agent-framework/)"
   ]
  },
  {
   "cell_type": "raw",
   "id": "854f8460-2160-4587-98dc-7b94b636790d",
   "metadata": {},
   "source": []
  },
  {
   "cell_type": "markdown",
   "id": "2c6ade3b-8292-428b-8958-c69294cc7ac8",
   "metadata": {},
   "source": [
    "If missing  \n",
    "! pip install git+https://github.com/openai/swarm.git  "
   ]
  },
  {
   "cell_type": "code",
   "execution_count": 1,
   "id": "0c17c46c-017a-4e00-9d2d-477d0a4e496f",
   "metadata": {},
   "outputs": [],
   "source": [
    "from swarm import Swarm, Agent\n",
    "from dotenv import load_dotenv\n",
    "import tool\n",
    "import os"
   ]
  },
  {
   "cell_type": "code",
   "execution_count": null,
   "id": "ca7f7f95-9df4-462f-a2c3-15aa14aa069e",
   "metadata": {},
   "outputs": [],
   "source": [
    "load_dotenv()\n",
    "os.getenv('OPENAI_API_KEY');"
   ]
  },
  {
   "cell_type": "code",
   "execution_count": 2,
   "id": "62f27f90-e229-4533-a785-b9845c651f0e",
   "metadata": {},
   "outputs": [],
   "source": [
    "client = Swarm()"
   ]
  },
  {
   "cell_type": "code",
   "execution_count": null,
   "id": "95dd81d1-d885-4003-8b63-1f9860aff6cb",
   "metadata": {},
   "outputs": [],
   "source": [
    "#client.client.api_key"
   ]
  },
  {
   "cell_type": "code",
   "execution_count": null,
   "id": "02e77dd8-1105-49f6-ace0-b106770675be",
   "metadata": {},
   "outputs": [],
   "source": [
    "client.client.api_key = tool.tool()"
   ]
  },
  {
   "cell_type": "code",
   "execution_count": 3,
   "id": "3d237bc0-4f1f-4184-a368-ae872bd20507",
   "metadata": {},
   "outputs": [],
   "source": [
    "import random as r\n",
    "\n",
    "def setRandomPrice() -> float:\n",
    "    \"\"\"generate a random price\"\"\"\n",
    "    return 100 * r.random()"
   ]
  },
  {
   "cell_type": "markdown",
   "id": "580e45dd-3198-4886-888e-41627e088652",
   "metadata": {},
   "source": [
    "## Introducing the crier, suggesting how to operate, asking very concise replies; the price level is set randomly"
   ]
  },
  {
   "cell_type": "code",
   "execution_count": 11,
   "id": "48e3699f-20a3-432b-a3d0-ddee76412926",
   "metadata": {},
   "outputs": [],
   "source": [
    "#for the buyer-seller\n",
    "def instructions(context_variables):\n",
    "   price_level = context_variables[\"price_level\"]\n",
    "   rules = \"1. Use the function setRandomPrice \" +\\\n",
    "           \"to set your reservation price as a random price and report \"+\\\n",
    "           \"it as a pure number without type of currency specification. \"+\\\n",
    "           \"2. Report your id using the sequence buyerSeller\"+str(i)+\". \"+\\\n",
    "           \"3. Report if you buy or sell comparing you reservation price and the price level, \"+\\\n",
    "           \"considering that if your reservation price is greater that the price level is convenient to buy \"+\\\n",
    "           \"and that in the opposite case is convenient to sell. \"+\\\n",
    "           \"If your reservation price is very close to the price level, do nothing \"+\\\n",
    "           f\"The price level is {price_level} \"+\\\n",
    "            \"finally, explain your reasoning\"\n",
    "   return rules"
   ]
  },
  {
   "cell_type": "raw",
   "id": "52adaa0b-db61-4574-9703-583a3c7275d8",
   "metadata": {},
   "source": [
    "model=\"gpt-4o-mini\""
   ]
  },
  {
   "cell_type": "code",
   "execution_count": 12,
   "id": "ed924891-24fe-4216-9d76-634ef16b2b57",
   "metadata": {},
   "outputs": [],
   "source": [
    "lA=[]\n",
    "for i in range(10):\n",
    " lA.append(\n",
    "    Agent(\n",
    "    model=\"gpt-4o\",\n",
    "    name=\"Agent buying-selling\",\n",
    "    instructions = instructions,\n",
    "    functions= [setRandomPrice]\n",
    "    )\n",
    " )"
   ]
  },
  {
   "cell_type": "code",
   "execution_count": 7,
   "id": "b1f8500d-d628-48c0-aedb-cf2f8636c5f9",
   "metadata": {},
   "outputs": [],
   "source": [
    "#for the crier\n",
    "def instructions2(context_variables):\n",
    "    global pl\n",
    "    pl=100 * r.random()\n",
    "    print(\"price level \",pl)\n",
    "    rules = \"Report your id as 'crier'\"\n",
    "    return rules  "
   ]
  },
  {
   "cell_type": "raw",
   "id": "0d45bcd6-d56a-4fcd-b3c2-a0dbfdb1b8a7",
   "metadata": {},
   "source": [
    "model=\"gpt-4o-mini\""
   ]
  },
  {
   "cell_type": "code",
   "execution_count": 8,
   "id": "36e044da-8a70-4543-9f15-34adf23144e3",
   "metadata": {},
   "outputs": [],
   "source": [
    "crier = Agent(\n",
    "    model=\"gpt-4o\",\n",
    "    name=\"Agent crier\",\n",
    "    instructions = instructions2\n",
    "    )"
   ]
  },
  {
   "cell_type": "code",
   "execution_count": 14,
   "id": "b6599c66-2ef4-4520-b06a-0f4701f705e8",
   "metadata": {},
   "outputs": [
    {
     "name": "stdout",
     "output_type": "stream",
     "text": [
      "price level  57.38711951661873\n",
      "My id is 'crier'.\n"
     ]
    }
   ],
   "source": [
    "messages = [{\"role\": \"user\", \"content\": \"Report your id\"}]\n",
    "response = client.run( agent=crier, \n",
    "                       messages=messages)\n",
    "print(response.messages[-1][\"content\"])"
   ]
  },
  {
   "cell_type": "code",
   "execution_count": 16,
   "id": "f45f8518-cd3b-4277-bb1b-432ede90b2d7",
   "metadata": {},
   "outputs": [
    {
     "name": "stdout",
     "output_type": "stream",
     "text": [
      "ID: buyerSeller0  \n",
      "Reservation Price: 66.71  \n",
      "Action: Buy  \n",
      "\n",
      "Reasoning: My reservation price (66.71) is greater than the price level (57.39), indicating it's advantageous to buy.\n",
      "ID: buyerSeller1  \n",
      "Reservation Price: 8.417048978199048  \n",
      "Action: Sell  \n",
      "\n",
      "Reasoning: My reservation price (8.417048978199048) is significantly lower than the price level (57.38711951661873), indicating it is advantageous to sell.\n",
      "ID: buyerSeller2, Reservation Price: 2.2451385756530273. Given my reservation price is less than the price level (57.38711951661873), I will sell.\n",
      "ID: buyerSeller3, Reservation Price: 0.6711454470165745, Action: Sell. \n",
      "\n",
      "Reasoning: My reservation price (0.6711454470165745) is significantly lower than the price level (57.38711951661873), making it advantageous to sell.\n",
      "ID: buyerSeller4, Reservation Price: 93.49325509022819, Action: Buy (Reservation price is greater than the price level 57.38711951661873)\n",
      "ID: buyerSeller5, Reservation Price: 10.559614528433169, Action: Sell (since reservation price is less than price level 57.38711951661873).\n",
      "ID: buyerSeller6  \n",
      "Reservation Price: 95.59888621854054  \n",
      "Action: Buy (since reservation price is greater than the price level of 57.38711951661873).\n",
      "ID: buyerSeller7, Reservation Price: 86.32409949527501, Action: Buy (because 86.324 is greater than the price level 57.387).\n",
      "ID: buyerSeller8  \n",
      "Reservation Price: 11.190923910571604  \n",
      "\n",
      "Action: Sell  \n",
      "\n",
      "Reasoning: The reservation price (11.190923910571604) is significantly lower than the price level (57.38711951661873), making it advantageous to sell.\n",
      "ID: buyerSeller9, Reservation Price: 52.35470396833697, Action: Sell (because reservation price is less than the price level).\n"
     ]
    }
   ],
   "source": [
    "for i in range(10):\n",
    " messages = [{\"role\": \"user\", \"content\": \"Report your id, what is your reservation price and what do you do;\"+\n",
    "                                         \"make your report in a very concise way\"}]\n",
    " response = client.run(\n",
    "                       agent=lA[i], \n",
    "                       messages=messages,\n",
    "                       context_variables={\"price_level\": pl})\n",
    " print(response.messages[-1][\"content\"])"
   ]
  },
  {
   "cell_type": "code",
   "execution_count": null,
   "id": "2bfed423-ba00-4868-b2f0-9c6847c6f242",
   "metadata": {},
   "outputs": [],
   "source": []
  }
 ],
 "metadata": {
  "kernelspec": {
   "display_name": "Python 3 (ipykernel)",
   "language": "python",
   "name": "python3"
  },
  "language_info": {
   "codemirror_mode": {
    "name": "ipython",
    "version": 3
   },
   "file_extension": ".py",
   "mimetype": "text/x-python",
   "name": "python",
   "nbconvert_exporter": "python",
   "pygments_lexer": "ipython3",
   "version": "3.11.7"
  }
 },
 "nbformat": 4,
 "nbformat_minor": 5
}
