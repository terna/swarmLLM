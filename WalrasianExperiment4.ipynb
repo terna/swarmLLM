{
 "cells": [
  {
   "cell_type": "markdown",
   "id": "861c14be-3260-463c-a8b4-fb18339e907a",
   "metadata": {},
   "source": [
    "Walrasian_auctioneer_or_criers\n",
    "Not an auction market, simply a market where someone–-the crier–-proposes prices, following a trial and error process, to search for an equlibrium. See https://en.wikipedia.org/wiki/Walrasian_auction"
   ]
  },
  {
   "cell_type": "markdown",
   "id": "341400cc-41bf-4d1c-8fed-394bef58ff86",
   "metadata": {},
   "source": [
    "paper utile https://air.unimi.it/bitstream/2434/43747/1/walras_lombardo_07fin.pdf\n",
    "\n",
    "localmente file walras_lombardo_07fin.pdf\n",
    "Equilibrio, disequilibrio e tempo in Walras \n",
    "\n",
    "Errore traduzione, vedere **Walrasian auction** https://en.wikipedia.org/wiki/Walrasian_auction"
   ]
  },
  {
   "cell_type": "markdown",
   "id": "469f8857-2709-4d5d-9201-02564434c580",
   "metadata": {},
   "source": [
    "Using **[Swarm (experimental, educational)](https://github.com/openai/swarm/blob/main/README.md)** con **[Orchestrating Agents: Routines and Handoffs](https://cookbook.openai.com/examples/orchestrating_agents)**"
   ]
  },
  {
   "cell_type": "markdown",
   "id": "fc9e564b-208f-4ad1-bf43-2d0742a3adf2",
   "metadata": {},
   "source": [
    "altri: [LangGraph vs CrewAI vs OpenAI Swarm: Which AI Agent Framework to Choose?](https://oyelabs.com/langgraph-vs-crewai-vs-openai-swarm-ai-agent-framework/)"
   ]
  },
  {
   "cell_type": "markdown",
   "id": "2c6ade3b-8292-428b-8958-c69294cc7ac8",
   "metadata": {},
   "source": [
    "If missing  \n",
    "! pip install git+https://github.com/openai/swarm.git  "
   ]
  },
  {
   "cell_type": "code",
   "execution_count": 1,
   "id": "0c17c46c-017a-4e00-9d2d-477d0a4e496f",
   "metadata": {},
   "outputs": [],
   "source": [
    "from swarm import Swarm, Agent\n",
    "from dotenv import load_dotenv\n",
    "import tool\n",
    "import os"
   ]
  },
  {
   "cell_type": "code",
   "execution_count": 2,
   "id": "ca7f7f95-9df4-462f-a2c3-15aa14aa069e",
   "metadata": {},
   "outputs": [],
   "source": [
    "load_dotenv()\n",
    "os.getenv('OPENAI_API_KEY');"
   ]
  },
  {
   "cell_type": "code",
   "execution_count": 3,
   "id": "62f27f90-e229-4533-a785-b9845c651f0e",
   "metadata": {},
   "outputs": [],
   "source": [
    "client = Swarm()"
   ]
  },
  {
   "cell_type": "code",
   "execution_count": 4,
   "id": "95dd81d1-d885-4003-8b63-1f9860aff6cb",
   "metadata": {},
   "outputs": [],
   "source": [
    "#client.client.api_key"
   ]
  },
  {
   "cell_type": "code",
   "execution_count": 5,
   "id": "02e77dd8-1105-49f6-ace0-b106770675be",
   "metadata": {},
   "outputs": [
    {
     "name": "stdin",
     "output_type": "stream",
     "text": [
      "Enter code  ········\n"
     ]
    }
   ],
   "source": [
    "client.client.api_key = tool.tool()"
   ]
  },
  {
   "cell_type": "code",
   "execution_count": 6,
   "id": "3d237bc0-4f1f-4184-a368-ae872bd20507",
   "metadata": {},
   "outputs": [],
   "source": [
    "import random as r\n",
    "\n",
    "def setRandomPrice() -> float:\n",
    "    \"\"\"generate a random price\"\"\"\n",
    "    return 100 * r.random()"
   ]
  },
  {
   "cell_type": "markdown",
   "id": "580e45dd-3198-4886-888e-41627e088652",
   "metadata": {},
   "source": [
    "## Introducing the crier, suggesting how to operate, asking very concise replies, price level set randomly"
   ]
  },
  {
   "cell_type": "code",
   "execution_count": 7,
   "id": "48e3699f-20a3-432b-a3d0-ddee76412926",
   "metadata": {},
   "outputs": [],
   "source": [
    "def instructions(context_variables):\n",
    "   price_level = context_variables[\"price_level\"]\n",
    "   rules = \"1. Use the function setRandomPrice \" +\\\n",
    "           \"to set your reservation price as a random price and report \"+\\\n",
    "           \"it as a pure number without money specification. \"+\\\n",
    "           \"2. Report your id using the sequence buyerSeller\"+str(i)+\". \"+\\\n",
    "           \"3. Report if you buy or sell comparing you reservation price and the price level, \"+\\\n",
    "           \"considering that if your reservation price is greater that the price level is convenient to buy \"+\\\n",
    "           \"and that in the opposite case is convenient to sell. \"+\\\n",
    "           \"If your reservation price is very close to the price level, do nothing \"+\\\n",
    "           f\"The price level is {price_level}\"\n",
    " \n",
    "   return rules"
   ]
  },
  {
   "cell_type": "code",
   "execution_count": 8,
   "id": "ed924891-24fe-4216-9d76-634ef16b2b57",
   "metadata": {},
   "outputs": [],
   "source": [
    "lA=[]\n",
    "\n",
    "for i in range(10):\n",
    " lA.append(\n",
    "    Agent(\n",
    "    name=\"Agent buying-selling\",\n",
    "    instructions = instructions,\n",
    "    functions= [setRandomPrice]\n",
    "    )\n",
    " )"
   ]
  },
  {
   "cell_type": "code",
   "execution_count": 9,
   "id": "b1f8500d-d628-48c0-aedb-cf2f8636c5f9",
   "metadata": {},
   "outputs": [],
   "source": [
    "def instructions2(context_variables):\n",
    "    global pl\n",
    "    pl=100 * r.random()\n",
    "    print(\"price level \",pl)\n",
    "    rules = \"Report your id as 'crier'\"\n",
    "    return rules  "
   ]
  },
  {
   "cell_type": "code",
   "execution_count": 10,
   "id": "36e044da-8a70-4543-9f15-34adf23144e3",
   "metadata": {},
   "outputs": [],
   "source": [
    "crier = Agent(\n",
    "    name=\"Agent crier\",\n",
    "    instructions = instructions2\n",
    "    )"
   ]
  },
  {
   "cell_type": "code",
   "execution_count": 11,
   "id": "b6599c66-2ef4-4520-b06a-0f4701f705e8",
   "metadata": {},
   "outputs": [
    {
     "name": "stdout",
     "output_type": "stream",
     "text": [
      "price level  48.58351481483759\n",
      "My id is 'crier'.\n"
     ]
    }
   ],
   "source": [
    "messages = [{\"role\": \"user\", \"content\": \"Report your id\"}]\n",
    "response = client.run(\n",
    "                       agent=crier, \n",
    "                       messages=messages)\n",
    "print(response.messages[-1][\"content\"])"
   ]
  },
  {
   "cell_type": "code",
   "execution_count": null,
   "id": "f45f8518-cd3b-4277-bb1b-432ede90b2d7",
   "metadata": {},
   "outputs": [
    {
     "name": "stdout",
     "output_type": "stream",
     "text": [
      "ID: buyerSeller0, Reservation Price: 1.34, Action: Sell\n",
      "Id: buyerSeller1, Reservation Price: 45.36360302649334, Action: Sell\n",
      "ID: buyerSeller2, Reservation Price: 16.29574918821932, Action: Sell\n",
      "- ID: buyerSeller3\n",
      "- Reservation Price: 98.34\n",
      "- Action: Buy (Reservation price is greater than the price level 48.58)\n",
      "ID: buyerSeller4, Reservation Price: 78.00820529811494, Action: Buy\n",
      "ID: buyerSeller5, Reservation Price: 35.24680514165578, Action: Sell\n",
      "Id: buyerSeller6, Reservation Price: 95.73873912652347, Action: Buy\n"
     ]
    }
   ],
   "source": [
    "for i in range(10):\n",
    " messages = [{\"role\": \"user\", \"content\": \"Report your id, what is your reservation price and that do you do;\"+\n",
    "                                         \"report in a very concise way\"}]\n",
    " response = client.run(\n",
    "                       agent=lA[i], \n",
    "                       messages=messages,\n",
    "                       context_variables={\"price_level\": pl})\n",
    " print(response.messages[-1][\"content\"])"
   ]
  },
  {
   "cell_type": "code",
   "execution_count": null,
   "id": "6a68b4ca-fcb5-4466-9133-127fa3c6b907",
   "metadata": {},
   "outputs": [],
   "source": []
  }
 ],
 "metadata": {
  "kernelspec": {
   "display_name": "Python 3 (ipykernel)",
   "language": "python",
   "name": "python3"
  },
  "language_info": {
   "codemirror_mode": {
    "name": "ipython",
    "version": 3
   },
   "file_extension": ".py",
   "mimetype": "text/x-python",
   "name": "python",
   "nbconvert_exporter": "python",
   "pygments_lexer": "ipython3",
   "version": "3.11.7"
  }
 },
 "nbformat": 4,
 "nbformat_minor": 5
}
