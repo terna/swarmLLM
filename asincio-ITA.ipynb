{
 "cells": [
  {
   "cell_type": "markdown",
   "id": "9cacca2c-6af8-42eb-83b1-1f3c6888b197",
   "metadata": {},
   "source": [
    "studio asincio con https://nocomplexity.com/documents/jupyterlab/tip-asyncio.html\n",
    "\n",
    "e soprattutto con domande a ChatGPT che producono  \n",
    "task = loop.create_task(main())  \n",
    "await task  \n",
    "\n",
    "e le celle finali"
   ]
  },
  {
   "cell_type": "code",
   "execution_count": 1,
   "id": "3c52f92e-22a1-48d9-9e58-784897f0888a",
   "metadata": {},
   "outputs": [],
   "source": [
    "import asyncio\n",
    "loop = asyncio.get_event_loop()"
   ]
  },
  {
   "cell_type": "code",
   "execution_count": 2,
   "id": "00c677fe-b87c-4b34-8cb2-a95601e48db3",
   "metadata": {},
   "outputs": [],
   "source": [
    "#hello_world.py\n",
    "\n",
    "#import asyncio\n",
    "\n",
    "from agents import Agent, Runner\n",
    "\n",
    "\n",
    "async def main():\n",
    "    agent = Agent(\n",
    "        name=\"Assistant\",\n",
    "        instructions=\"Rispondi solo scrivendo haiku.\",\n",
    "    )\n",
    "\n",
    "    result = await Runner.run(agent, \"Spiegami la ricorsione nella programmazione.\")\n",
    "    print(result.final_output)\n"
   ]
  },
  {
   "cell_type": "code",
   "execution_count": 4,
   "id": "269d2e7c-07d6-4ca2-a949-770680793272",
   "metadata": {},
   "outputs": [
    {
     "name": "stdout",
     "output_type": "stream",
     "text": [
      "Funzione si chiama,  \n",
      "ripete sé senza fine,  \n",
      "il ciclo ritorna.\n"
     ]
    },
    {
     "data": {
      "text/plain": [
       "True"
      ]
     },
     "execution_count": 4,
     "metadata": {},
     "output_type": "execute_result"
    }
   ],
   "source": [
    "task = loop.create_task(main())\n",
    "await task\n",
    "task.done() "
   ]
  },
  {
   "cell_type": "code",
   "execution_count": null,
   "id": "8e7a37b8-f9b9-48ae-91fd-b000809b92e9",
   "metadata": {},
   "outputs": [],
   "source": []
  }
 ],
 "metadata": {
  "kernelspec": {
   "display_name": "Python 3 (ipykernel)",
   "language": "python",
   "name": "python3"
  },
  "language_info": {
   "codemirror_mode": {
    "name": "ipython",
    "version": 3
   },
   "file_extension": ".py",
   "mimetype": "text/x-python",
   "name": "python",
   "nbconvert_exporter": "python",
   "pygments_lexer": "ipython3",
   "version": "3.11.7"
  }
 },
 "nbformat": 4,
 "nbformat_minor": 5
}
